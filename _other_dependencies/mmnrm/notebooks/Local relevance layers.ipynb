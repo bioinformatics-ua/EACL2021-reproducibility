{
 "cells": [
  {
   "cell_type": "code",
   "execution_count": 1,
   "metadata": {},
   "outputs": [],
   "source": [
    "import os\n",
    "import sys\n",
    "\n",
    "module_path = os.path.abspath(\"..\")\n",
    "if module_path not in sys.path:\n",
    "    sys.path.append(module_path)\n",
    "\n",
    "from utils import set_random_seed\n",
    "set_random_seed()\n",
    "    \n",
    "import tensorflow as tf\n",
    "from tensorflow.keras import backend as K\n",
    "\n",
    "import numpy as np"
   ]
  },
  {
   "cell_type": "markdown",
   "metadata": {},
   "source": [
    "# MultipleNgramConvs like in PACRR\n",
    "\n",
    "https://arxiv.org/abs/1704.03940"
   ]
  },
  {
   "cell_type": "code",
   "execution_count": 2,
   "metadata": {},
   "outputs": [],
   "source": [
    "from layers.interaction import SemanticInteractions\n",
    "from layers.local_relevance import MultipleNgramConvs"
   ]
  },
  {
   "cell_type": "code",
   "execution_count": 3,
   "metadata": {},
   "outputs": [
    {
     "name": "stdout",
     "output_type": "stream",
     "text": [
      "[EMBEDDING MATRIX SHAPE] (10000, 68)\n",
      "Model: \"model\"\n",
      "__________________________________________________________________________________________________\n",
      "Layer (type)                    Output Shape         Param #     Connected to                     \n",
      "==================================================================================================\n",
      "input_1 (InputLayer)            [(None, 8)]          0                                            \n",
      "__________________________________________________________________________________________________\n",
      "input_2 (InputLayer)            [(None, 4)]          0                                            \n",
      "__________________________________________________________________________________________________\n",
      "semantic_interactions (Semantic (None, 8, 4, 3)      136         input_1[0][0]                    \n",
      "                                                                 input_2[0][0]                    \n",
      "__________________________________________________________________________________________________\n",
      "multiple_ngram_convs (MultipleN (None, 8, 18)        2352        semantic_interactions[0][0]      \n",
      "==================================================================================================\n",
      "Total params: 2,488\n",
      "Trainable params: 2,488\n",
      "Non-trainable params: 0\n",
      "__________________________________________________________________________________________________\n"
     ]
    }
   ],
   "source": [
    "# test\n",
    "K.clear_session()\n",
    "\n",
    "emb_matrix = np.random.random((10000,68))\n",
    "\n",
    "input_query = tf.keras.layers.Input((8,), dtype=\"int32\")\n",
    "input_sentence = tf.keras.layers.Input((4,), dtype=\"int32\")\n",
    "\n",
    "semantic_interaction = SemanticInteractions(emb_matrix)\n",
    "extendedpacrr = MultipleNgramConvs(max_ngram=3, k_max=2)\n",
    "\n",
    "_out = semantic_interaction([input_query, input_sentence])\n",
    "_out = extendedpacrr(_out)\n",
    "\n",
    "model = tf.keras.models.Model(inputs=[input_query, input_sentence], outputs=_out)\n",
    "model.summary()"
   ]
  },
  {
   "cell_type": "code",
   "execution_count": 4,
   "metadata": {},
   "outputs": [
    {
     "name": "stdout",
     "output_type": "stream",
     "text": [
      "print colums from the matrix\n",
      "[ 7.5661864 10.738802  10.738802   9.411268  10.738802   7.5661864\n",
      "  9.411268   7.5661864]\n",
      "[ 7.5661864 10.738802  10.738802   7.570742  10.738802   7.5661864\n",
      "  7.570742   7.5661864]\n",
      "[-1.363623  -1.5093865 -1.5093865 -1.5664757 -1.5093865 -1.363623\n",
      " -1.5664757 -1.363623 ]\n",
      "[5.3002057 7.367325  7.5272017 7.540059  6.7676516 6.925189  6.0865474\n",
      " 4.6671877]\n",
      "[5.126718  7.314978  7.4037476 7.2781425 6.7188783 6.7726593 6.036393\n",
      " 4.511224 ]\n"
     ]
    }
   ],
   "source": [
    "# test with some values\n",
    "\n",
    "query = np.random.randint(1,4,(1, 8))\n",
    "document = np.random.randint(1,4,(1, 4))\n",
    "\n",
    "y = model.predict([query, document])\n",
    "print(\"print colums from the matrix\")\n",
    "print(y[0,:,0])\n",
    "print(y[0,:,1])\n",
    "print(y[0,:,2])\n",
    "print(y[0,:,-2])\n",
    "print(y[0,:,-1])"
   ]
  },
  {
   "cell_type": "code",
   "execution_count": 5,
   "metadata": {},
   "outputs": [
    {
     "name": "stdout",
     "output_type": "stream",
     "text": [
      "print colums from the matrix\n",
      "[ 7.5661864 10.738802  10.738802   7.570742   0.         0.\n",
      "  0.         0.       ]\n",
      "[ 7.5661864 10.738802  10.738802   7.570742   0.         0.\n",
      "  0.         0.       ]\n",
      "[0. 0. 0. 0. 0. 0. 0. 0.]\n",
      "[5.3002057 7.314978  6.9820356 5.0388074 0.        0.        0.\n",
      " 0.       ]\n",
      "[4.3984413 6.0978746 6.5127707 4.0440497 0.        0.        0.\n",
      " 0.       ]\n"
     ]
    }
   ],
   "source": [
    "query[:,4:] = np.zeros(4,)\n",
    "document[:,2:] = np.zeros(2,)\n",
    "\n",
    "y = model.predict([query, document])\n",
    "print(\"print colums from the matrix\")\n",
    "print(y[0,:,0])\n",
    "print(y[0,:,1])\n",
    "print(y[0,:,2])\n",
    "print(y[0,:,-2])\n",
    "print(y[0,:,-1])"
   ]
  },
  {
   "cell_type": "markdown",
   "metadata": {},
   "source": [
    "# MaskedSoftmax"
   ]
  },
  {
   "cell_type": "code",
   "execution_count": 6,
   "metadata": {},
   "outputs": [],
   "source": [
    "from layers.local_relevance import MaskedSoftmax"
   ]
  },
  {
   "cell_type": "code",
   "execution_count": 7,
   "metadata": {},
   "outputs": [
    {
     "name": "stdout",
     "output_type": "stream",
     "text": [
      "[[5. 3. 1. 1. 5. 0. 0. 0. 0. 0.]]\n",
      "tf.Tensor(\n",
      "[[0.46041223 0.06231002 0.00843274 0.00843274 0.46041223 0.\n",
      "  0.         0.         0.         0.        ]], shape=(1, 10), dtype=float32)\n",
      "norm [[0.33333334 0.2        0.06666667 0.06666667 0.33333334 0.\n",
      "  0.         0.         0.         0.        ]]\n",
      "tf.Tensor(\n",
      "[[0.22691017 0.19858573 0.17379694 0.17379694 0.22691017 0.\n",
      "  0.         0.         0.         0.        ]], shape=(1, 10), dtype=float32)\n"
     ]
    }
   ],
   "source": [
    "K.clear_session()\n",
    "\n",
    "\n",
    "query = np.random.randint(1,8,(1, 10)).astype(np.float32)\n",
    "query[:,5:] = np.zeros(5,)\n",
    "idf_softmax = MaskedSoftmax()\n",
    "\n",
    "print(query)\n",
    "print(idf_softmax(query))\n",
    "\n",
    "norm = query/np.sum(query)\n",
    "print(\"norm\",norm)\n",
    "print(idf_softmax(norm))\n"
   ]
  },
  {
   "cell_type": "code",
   "execution_count": 8,
   "metadata": {},
   "outputs": [
    {
     "name": "stdout",
     "output_type": "stream",
     "text": [
      "Model: \"model\"\n",
      "_________________________________________________________________\n",
      "Layer (type)                 Output Shape              Param #   \n",
      "=================================================================\n",
      "input_1 (InputLayer)         [(None, 10)]              0         \n",
      "_________________________________________________________________\n",
      "masked_softmax (MaskedSoftma (None, 10)                0         \n",
      "=================================================================\n",
      "Total params: 0\n",
      "Trainable params: 0\n",
      "Non-trainable params: 0\n",
      "_________________________________________________________________\n"
     ]
    }
   ],
   "source": [
    "## model simple outputs\n",
    "\n",
    "K.clear_session()\n",
    "\n",
    "input_query = tf.keras.layers.Input((10,), dtype=\"float32\")\n",
    "\n",
    "idf_softmax = MaskedSoftmax()\n",
    "\n",
    "_out = idf_softmax(input_query)\n",
    "\n",
    "model = tf.keras.models.Model(inputs=input_query, outputs=_out)\n",
    "model.summary()"
   ]
  },
  {
   "cell_type": "code",
   "execution_count": 9,
   "metadata": {},
   "outputs": [
    {
     "name": "stdout",
     "output_type": "stream",
     "text": [
      "[[5. 3. 1. 1. 5. 0. 0. 0. 0. 0.]]\n",
      "[[0.46041223 0.06231002 0.00843274 0.00843274 0.46041223 0.\n",
      "  0.         0.         0.         0.        ]]\n",
      "norm [[0.33333334 0.2        0.06666667 0.06666667 0.33333334 0.\n",
      "  0.         0.         0.         0.        ]]\n",
      "[[0.22691017 0.19858573 0.17379694 0.17379694 0.22691017 0.\n",
      "  0.         0.         0.         0.        ]]\n"
     ]
    }
   ],
   "source": [
    "\n",
    "print(query)\n",
    "print(model.predict(query))\n",
    "\n",
    "norm = query/np.sum(query)\n",
    "print(\"norm\",norm)\n",
    "print(model.predict(norm))"
   ]
  },
  {
   "cell_type": "code",
   "execution_count": null,
   "metadata": {},
   "outputs": [],
   "source": []
  },
  {
   "cell_type": "code",
   "execution_count": null,
   "metadata": {},
   "outputs": [],
   "source": []
  }
 ],
 "metadata": {
  "kernelspec": {
   "display_name": "Python 3",
   "language": "python",
   "name": "python3"
  },
  "language_info": {
   "codemirror_mode": {
    "name": "ipython",
    "version": 3
   },
   "file_extension": ".py",
   "mimetype": "text/x-python",
   "name": "python",
   "nbconvert_exporter": "python",
   "pygments_lexer": "ipython3",
   "version": "3.5.2"
  }
 },
 "nbformat": 4,
 "nbformat_minor": 2
}
